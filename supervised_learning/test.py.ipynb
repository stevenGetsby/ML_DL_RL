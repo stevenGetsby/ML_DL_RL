{
 "cells": [
  {
   "cell_type": "code",
   "id": "initial_id",
   "metadata": {
    "collapsed": true,
    "ExecuteTime": {
     "end_time": "2024-10-17T15:17:06.762778Z",
     "start_time": "2024-10-17T15:17:06.549332Z"
    }
   },
   "source": [
    "from sklearn import datasets\n",
    "from sqlalchemy import false\n",
    "\n",
    "from utils import make_diagonal, normalize, train_test_split, accuracy_score\n",
    "from utils import Plot\n",
    "from supervised_learning import LogisticRegression"
   ],
   "outputs": [],
   "execution_count": 46
  },
  {
   "metadata": {
    "ExecuteTime": {
     "end_time": "2024-10-17T15:17:06.934293Z",
     "start_time": "2024-10-17T15:17:06.926293Z"
    }
   },
   "cell_type": "code",
   "source": "data = datasets.load_iris()",
   "id": "75b0e34cb383fb96",
   "outputs": [],
   "execution_count": 47
  },
  {
   "metadata": {
    "ExecuteTime": {
     "end_time": "2024-10-17T15:17:07.448527Z",
     "start_time": "2024-10-17T15:17:07.431392Z"
    }
   },
   "cell_type": "code",
   "source": [
    "X = normalize(data.data[data.target!=0])\n",
    "y = data.target[data.target!=0]"
   ],
   "id": "f92f7cbc6e2c4df9",
   "outputs": [],
   "execution_count": 48
  },
  {
   "metadata": {
    "ExecuteTime": {
     "end_time": "2024-10-17T15:17:07.838822Z",
     "start_time": "2024-10-17T15:17:07.828812Z"
    }
   },
   "cell_type": "code",
   "source": [
    "y[y==1]=0\n",
    "y[y==2]=1\n",
    "y"
   ],
   "id": "10359337be7d00ca",
   "outputs": [
    {
     "data": {
      "text/plain": [
       "array([0, 0, 0, 0, 0, 0, 0, 0, 0, 0, 0, 0, 0, 0, 0, 0, 0, 0, 0, 0, 0, 0,\n",
       "       0, 0, 0, 0, 0, 0, 0, 0, 0, 0, 0, 0, 0, 0, 0, 0, 0, 0, 0, 0, 0, 0,\n",
       "       0, 0, 0, 0, 0, 0, 1, 1, 1, 1, 1, 1, 1, 1, 1, 1, 1, 1, 1, 1, 1, 1,\n",
       "       1, 1, 1, 1, 1, 1, 1, 1, 1, 1, 1, 1, 1, 1, 1, 1, 1, 1, 1, 1, 1, 1,\n",
       "       1, 1, 1, 1, 1, 1, 1, 1, 1, 1, 1, 1])"
      ]
     },
     "execution_count": 49,
     "metadata": {},
     "output_type": "execute_result"
    }
   ],
   "execution_count": 49
  },
  {
   "metadata": {
    "ExecuteTime": {
     "end_time": "2024-10-17T15:17:08.649668Z",
     "start_time": "2024-10-17T15:17:08.632667Z"
    }
   },
   "cell_type": "code",
   "source": "X_train, X_test, y_train, y_test = train_test_split(X, y, test_size=0.3, seed = 1)",
   "id": "249716c1409f3bd3",
   "outputs": [],
   "execution_count": 50
  },
  {
   "metadata": {
    "ExecuteTime": {
     "end_time": "2024-10-17T15:17:09.332133Z",
     "start_time": "2024-10-17T15:17:09.313599Z"
    }
   },
   "cell_type": "code",
   "source": "len(X_train), len(X_test), len(y_train), len(y_test)",
   "id": "fcae4166d8bdfba0",
   "outputs": [
    {
     "data": {
      "text/plain": [
       "(71, 29, 71, 29)"
      ]
     },
     "execution_count": 51,
     "metadata": {},
     "output_type": "execute_result"
    }
   ],
   "execution_count": 51
  },
  {
   "metadata": {
    "ExecuteTime": {
     "end_time": "2024-10-17T15:17:31.975120Z",
     "start_time": "2024-10-17T15:17:31.931152Z"
    }
   },
   "cell_type": "code",
   "source": [
    "model = LogisticRegression(learning_rate=0.1,gradient_descent=True)\n",
    "model.fit(X_train, y_train, n_iterations=5000)"
   ],
   "id": "53fc8b39d0d728c6",
   "outputs": [],
   "execution_count": 55
  },
  {
   "metadata": {
    "ExecuteTime": {
     "end_time": "2024-10-17T15:17:32.226011Z",
     "start_time": "2024-10-17T15:17:32.216006Z"
    }
   },
   "cell_type": "code",
   "source": [
    "y_pred = model.predict(X_test)\n",
    "print(accuracy_score(y_test, y_pred))"
   ],
   "id": "2188c2cce8bf2d5e",
   "outputs": [
    {
     "name": "stdout",
     "output_type": "stream",
     "text": [
      "0.9310344827586207\n"
     ]
    }
   ],
   "execution_count": 56
  },
  {
   "metadata": {},
   "cell_type": "code",
   "outputs": [],
   "execution_count": null,
   "source": "",
   "id": "de47ead4b87b675c"
  }
 ],
 "metadata": {
  "kernelspec": {
   "display_name": "Python 3",
   "language": "python",
   "name": "python3"
  },
  "language_info": {
   "codemirror_mode": {
    "name": "ipython",
    "version": 2
   },
   "file_extension": ".py",
   "mimetype": "text/x-python",
   "name": "python",
   "nbconvert_exporter": "python",
   "pygments_lexer": "ipython2",
   "version": "2.7.6"
  }
 },
 "nbformat": 4,
 "nbformat_minor": 5
}
